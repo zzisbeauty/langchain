{
 "cells": [
  {
   "cell_type": "raw",
   "id": "99a6719c8eff9f2c",
   "metadata": {
    "collapsed": false
   },
   "source": [
    "---\n",
    "sidebar_label: Upstage\n",
    "---"
   ]
  },
  {
   "cell_type": "markdown",
   "id": "e499673dec883096",
   "metadata": {
    "collapsed": false
   },
   "source": [
    "# Upstage Groundedness Check\n",
    "\n",
    "This notebook covers how to get started with Upstage groundedness check models.\n",
    "\n",
    "## Installation  \n",
    "\n",
    "Install `langchain-upstage` package.\n",
    "\n",
    "```bash\n",
    "pip install -U langchain-upstage\n",
    "```"
   ]
  },
  {
   "cell_type": "markdown",
   "id": "fdcbdec7dbe5164f",
   "metadata": {
    "collapsed": false
   },
   "source": [
    "## Environment Setup\n",
    "\n",
    "Make sure to set the following environment variables:\n",
    "\n",
    "- `UPSTAGE_API_KEY`: Your Upstage API key from [Upstage developers document](https://developers.upstage.ai/docs/getting-started/quick-start)."
   ]
  },
  {
   "cell_type": "code",
   "execution_count": null,
   "id": "a83d4da0",
   "metadata": {},
   "outputs": [],
   "source": [
    "import os\n",
    "\n",
    "os.environ[\"UPSTAGE_API_KEY\"] = \"YOUR_API_KEY\""
   ]
  },
  {
   "cell_type": "markdown",
   "id": "317fd474",
   "metadata": {},
   "source": [
    "## Usage\n",
    "\n",
    "Initialize `UpstageGroundednessCheck` class."
   ]
  },
  {
   "cell_type": "code",
   "execution_count": null,
   "id": "b7373380c01cefbe",
   "metadata": {
    "collapsed": false
   },
   "outputs": [],
   "source": [
    "from langchain_upstage import UpstageGroundednessCheck\n",
    "\n",
    "groundedness_check = UpstageGroundednessCheck()"
   ]
  },
  {
   "cell_type": "markdown",
   "id": "f4a7f9450b3ef2c1",
   "metadata": {},
   "source": [
    "Use the `run` method to check the groundedness of the input text."
   ]
  },
  {
   "cell_type": "code",
   "execution_count": null,
   "id": "1e0115e3b511f57",
   "metadata": {
    "collapsed": false,
    "is_executing": true
   },
   "outputs": [],
   "source": [
    "request_input = {\n",
    "    \"context\": \"Mauna Kea is an inactive volcano on the island of Hawai'i. Its peak is 4,207.3 m above sea level, making it the highest point in Hawaii and second-highest peak of an island on Earth.\",\n",
    "    \"answer\": \"Mauna Kea is 5,207.3 meters tall.\",\n",
    "}\n",
    "\n",
    "response = groundedness_check.invoke(request_input)\n",
    "print(response)"
   ]
  }
 ],
 "metadata": {
  "kernelspec": {
   "display_name": "Python 3",
   "language": "python",
   "name": "python3"
  },
  "language_info": {
   "codemirror_mode": {
    "name": "ipython",
    "version": 3
   },
   "file_extension": ".py",
   "mimetype": "text/x-python",
   "name": "python",
   "nbconvert_exporter": "python",
   "pygments_lexer": "ipython3",
   "version": "3.11.4"
  }
 },
 "nbformat": 4,
 "nbformat_minor": 5
}
